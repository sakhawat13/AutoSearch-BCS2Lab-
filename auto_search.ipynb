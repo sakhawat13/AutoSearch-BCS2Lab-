{
 "cells": [
  {
   "cell_type": "markdown",
   "id": "2883bac2",
   "metadata": {},
   "source": [
    "# Helper Code For AI Ethics Search Project "
   ]
  },
  {
   "cell_type": "markdown",
   "id": "a5e5c11f",
   "metadata": {},
   "source": [
    "## Importing the packages"
   ]
  },
  {
   "cell_type": "markdown",
   "id": "fe18789b",
   "metadata": {},
   "source": [
    "If you dont have this package install run the installer"
   ]
  },
  {
   "cell_type": "code",
   "execution_count": null,
   "id": "497492c3",
   "metadata": {
    "scrolled": true
   },
   "outputs": [],
   "source": [
    "pip install selenium\n"
   ]
  },
  {
   "cell_type": "markdown",
   "id": "f9fbee64",
   "metadata": {},
   "source": [
    "Import the packages"
   ]
  },
  {
   "cell_type": "code",
   "execution_count": 41,
   "id": "15a0b49e",
   "metadata": {},
   "outputs": [],
   "source": [
    "from selenium import webdriver\n",
    "from webdriver_manager.chrome import ChromeDriverManager \n",
    "from selenium.webdriver.chrome.service import Service\n",
    "import pandas as pd\n"
   ]
  },
  {
   "cell_type": "markdown",
   "id": "3e25e346",
   "metadata": {},
   "source": [
    "## Company list and KeyPrhase to search"
   ]
  },
  {
   "cell_type": "markdown",
   "id": "fc95d18c",
   "metadata": {},
   "source": [
    "#### When we have the company data we can read it like this and convert to list"
   ]
  },
  {
   "cell_type": "code",
   "execution_count": null,
   "id": "3cf950c4",
   "metadata": {},
   "outputs": [],
   "source": [
    "df = pd.read_csv('data.csv')  \n",
    "company_list = df[\"name\"].tolist()"
   ]
  },
  {
   "cell_type": "markdown",
   "id": "67deff87",
   "metadata": {},
   "source": [
    "#### This is a random list for testing purpose"
   ]
  },
  {
   "cell_type": "code",
   "execution_count": 3,
   "id": "b4dc2769",
   "metadata": {},
   "outputs": [],
   "source": [
    "testList = [\"google\",\"facebook\",\"netflix\",\"amazon\",\"alibaba\"]\n",
    "keyprhase = \"AI+ethics\""
   ]
  },
  {
   "cell_type": "markdown",
   "id": "a8e24983",
   "metadata": {},
   "source": [
    "#### Split the list into as many chunks as you want for a session"
   ]
  },
  {
   "cell_type": "code",
   "execution_count": 20,
   "id": "59ef2d0b",
   "metadata": {},
   "outputs": [],
   "source": [
    "import numpy as np\n",
    "chunk_num = 3\n",
    "chunks = np.array_split(testList, chunk_num)\n"
   ]
  },
  {
   "cell_type": "markdown",
   "id": "6aa2e497",
   "metadata": {},
   "source": [
    "## The code"
   ]
  },
  {
   "cell_type": "markdown",
   "id": "19ef81c7",
   "metadata": {},
   "source": [
    "<div class=\"alert alert-block alert-info\">\n",
    "<b>Warning:</b> You dont need to worry about the code. You can inspect the code, but dont change anything if you arent sure.\n",
    "</div>"
   ]
  },
  {
   "cell_type": "code",
   "execution_count": 54,
   "id": "8f69865e",
   "metadata": {},
   "outputs": [],
   "source": [
    "def Auto_search (company_list, keyword, is_bing = True):\n",
    "    options = webdriver.ChromeOptions()\n",
    "    options.add_experimental_option(\"detach\", True)\n",
    "    driver = webdriver.Chrome(options=options,service=Service(ChromeDriverManager().install()))\n",
    "    current_page=1\n",
    "    for i,x in enumerate (company_list):\n",
    "        \n",
    "        \n",
    "        driver.get(\"https://www.google.com/search?as_q=&as_epq=\"+x+\"&as_oq=\"+keyword+\"&as_eq=&as_nlo=&as_nhi=&lr=&cr=&as_qdr=all&as_sitesearch=&as_occt=any&safe=images&as_filetype=&tbs= \")\n",
    "#         time.sleep(1)\n",
    "        if is_bing:\n",
    "            driver.execute_script(\"window.open('');\")\n",
    "            driver.switch_to.window(driver.window_handles[2*current_page-1])\n",
    "            driver.get(\"https://www.bing.com/search?q=\"+x+keyword+\"&form=QBLH&sp=-1&pq=\"+x+keyword+\"&sc=9-16&qs=n&sk=&cvid=F1B69B9DC82042769364838123B11EA8&ghsh=0&ghacc=0&ghpl=\")\n",
    "            driver.execute_script(\"window.open('');\")\n",
    "            driver.switch_to.window(driver.window_handles[2*current_page])\n",
    "        else:\n",
    "            driver.execute_script(\"window.open('');\")\n",
    "            driver.switch_to.window(driver.window_handles[i+1])\n",
    "        current_page = current_page+1\n",
    "    "
   ]
  },
  {
   "cell_type": "markdown",
   "id": "3fa98b61",
   "metadata": {},
   "source": [
    "## Call the function"
   ]
  },
  {
   "cell_type": "markdown",
   "id": "e7a0bea6",
   "metadata": {},
   "source": [
    "### Run the function. The parameters in serial follows: "
   ]
  },
  {
   "cell_type": "markdown",
   "id": "459963b3",
   "metadata": {},
   "source": [
    " - Chunks index; Remember index start with 0\n",
    " - KeyWords/Phrases; Remeber to add a + in between words and keep it in string\n",
    " - Search in Bing; either True or False\n"
   ]
  },
  {
   "cell_type": "code",
   "execution_count": 57,
   "id": "f195ab26",
   "metadata": {
    "scrolled": true
   },
   "outputs": [
    {
     "name": "stdout",
     "output_type": "stream",
     "text": [
      "\n"
     ]
    },
    {
     "name": "stderr",
     "output_type": "stream",
     "text": [
      "[WDM] - ====== WebDriver manager ======\n",
      "[WDM] - Current google-chrome version is 107.0.5304\n",
      "[WDM] - Get LATEST chromedriver version for 107.0.5304 google-chrome\n",
      "[WDM] - Driver [C:\\Users\\u\\.wdm\\drivers\\chromedriver\\win32\\107.0.5304.62\\chromedriver.exe] found in cache\n"
     ]
    }
   ],
   "source": [
    "\n",
    "Auto_search(chunks[0],keyprhase,True)"
   ]
  }
 ],
 "metadata": {
  "kernelspec": {
   "display_name": "Python 3 (ipykernel)",
   "language": "python",
   "name": "python3"
  },
  "language_info": {
   "codemirror_mode": {
    "name": "ipython",
    "version": 3
   },
   "file_extension": ".py",
   "mimetype": "text/x-python",
   "name": "python",
   "nbconvert_exporter": "python",
   "pygments_lexer": "ipython3",
   "version": "3.9.7"
  }
 },
 "nbformat": 4,
 "nbformat_minor": 5
}
